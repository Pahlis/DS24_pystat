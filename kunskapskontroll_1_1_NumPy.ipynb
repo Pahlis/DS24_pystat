{
 "cells": [
  {
   "cell_type": "markdown",
   "id": "dacf74e6",
   "metadata": {},
   "source": [
    "# NumPy"
   ]
  },
  {
   "cell_type": "markdown",
   "id": "01b2bf34",
   "metadata": {},
   "source": [
    "Read the links: https://numpy.org/doc/stable/user/quickstart.html  and https://numpy.org/doc/stable/user/basics.broadcasting.html  before solving the exercises. "
   ]
  },
  {
   "cell_type": "code",
   "execution_count": 95,
   "id": "1f79e4a6",
   "metadata": {},
   "outputs": [],
   "source": [
    "import numpy as np"
   ]
  },
  {
   "cell_type": "markdown",
   "id": "7dae6889",
   "metadata": {},
   "source": [
    "### Print out the dimension (number of axes), shape, size and the datatype of the matrix A."
   ]
  },
  {
   "cell_type": "code",
   "execution_count": 96,
   "id": "7b3678cd",
   "metadata": {},
   "outputs": [],
   "source": [
    "A = np.arange(1, 16).reshape(3,5)"
   ]
  },
  {
   "cell_type": "code",
   "execution_count": 97,
   "id": "31d39235",
   "metadata": {},
   "outputs": [
    {
     "name": "stdout",
     "output_type": "stream",
     "text": [
      "2\n",
      "(3, 5)\n",
      "15\n",
      "int32\n"
     ]
    }
   ],
   "source": [
    "print(A.ndim)\n",
    "print(A.shape)\n",
    "print(A.size)\n",
    "print(A.dtype)"
   ]
  },
  {
   "cell_type": "markdown",
   "id": "e56d2a96",
   "metadata": {},
   "source": [
    "### Do the following computations on the matrices B and C: \n",
    "* Elementwise subtraction. \n",
    "* Elementwise multiplication. \n",
    "* Matrix multiplication (by default you should use the @ operator)."
   ]
  },
  {
   "cell_type": "code",
   "execution_count": 98,
   "id": "a7053fbb",
   "metadata": {},
   "outputs": [
    {
     "name": "stdout",
     "output_type": "stream",
     "text": [
      "[[1 2 3]\n",
      " [4 5 6]\n",
      " [7 8 9]]\n",
      "\n",
      "[[2. 2. 2.]\n",
      " [2. 2. 2.]\n",
      " [2. 2. 2.]]\n"
     ]
    }
   ],
   "source": [
    "B = np.arange(1, 10).reshape(3, 3)\n",
    "C = np.ones((3, 3))*2\n",
    "\n",
    "print(B)\n",
    "print()\n",
    "print(C)"
   ]
  },
  {
   "cell_type": "code",
   "execution_count": 99,
   "id": "3cd794ae",
   "metadata": {},
   "outputs": [
    {
     "name": "stdout",
     "output_type": "stream",
     "text": [
      "[[-1.  0.  1.]\n",
      " [ 2.  3.  4.]\n",
      " [ 5.  6.  7.]]\n",
      "\n",
      "[[ 2.  4.  6.]\n",
      " [ 8. 10. 12.]\n",
      " [14. 16. 18.]]\n",
      "\n",
      "[[12. 12. 12.]\n",
      " [30. 30. 30.]\n",
      " [48. 48. 48.]]\n"
     ]
    }
   ],
   "source": [
    "print(B - C)\n",
    "print()\n",
    "print(B * C)\n",
    "print()\n",
    "print(B @ C)"
   ]
  },
  {
   "cell_type": "markdown",
   "id": "96030d53",
   "metadata": {},
   "source": [
    "### Do the following calculations on the matrix:\n",
    "* Exponentiate each number elementwise (use the np.exp function).\n",
    "\n",
    "* Calculate the minimum value in the whole matrix. \n",
    "* Calculcate the minimum value in each row. \n",
    "* Calculcate the minimum value in each column. \n",
    "\n",
    "\n",
    "* Find the index value for the minimum value in the whole matrix (hint: use np.argmin).\n",
    "* Find the index value for the minimum value in each row (hint: use np.argmin).\n",
    "\n",
    "\n",
    "* Calculate the sum for all elements.\n",
    "* Calculate the mean for each column. \n",
    "* Calculate the median for each column. "
   ]
  },
  {
   "cell_type": "code",
   "execution_count": 100,
   "id": "f8a9166b",
   "metadata": {},
   "outputs": [
    {
     "name": "stdout",
     "output_type": "stream",
     "text": [
      "[[1 2 3]\n",
      " [4 5 6]\n",
      " [7 8 9]]\n"
     ]
    }
   ],
   "source": [
    "B = np.arange(1, 10).reshape(3, 3)\n",
    "print(B)"
   ]
  },
  {
   "cell_type": "code",
   "execution_count": 101,
   "id": "f03f24f7",
   "metadata": {},
   "outputs": [
    {
     "data": {
      "text/plain": [
       "array([[2.71828183e+00, 7.38905610e+00, 2.00855369e+01],\n",
       "       [5.45981500e+01, 1.48413159e+02, 4.03428793e+02],\n",
       "       [1.09663316e+03, 2.98095799e+03, 8.10308393e+03]])"
      ]
     },
     "execution_count": 101,
     "metadata": {},
     "output_type": "execute_result"
    }
   ],
   "source": [
    "#Exponentiate each number elementwise (use the np.exp function).\n",
    "np.exp(B)"
   ]
  },
  {
   "cell_type": "code",
   "execution_count": 102,
   "id": "b56dadec",
   "metadata": {},
   "outputs": [
    {
     "data": {
      "text/plain": [
       "1"
      ]
     },
     "execution_count": 102,
     "metadata": {},
     "output_type": "execute_result"
    }
   ],
   "source": [
    "#Calculate the minimum value in the whole matrix.\n",
    "B.min()"
   ]
  },
  {
   "cell_type": "code",
   "execution_count": 103,
   "id": "14e9cef5",
   "metadata": {},
   "outputs": [
    {
     "data": {
      "text/plain": [
       "array([1, 4, 7])"
      ]
     },
     "execution_count": 103,
     "metadata": {},
     "output_type": "execute_result"
    }
   ],
   "source": [
    "#Calculcate the minimum value in each row. \n",
    "B.min(axis=1)"
   ]
  },
  {
   "cell_type": "code",
   "execution_count": 104,
   "id": "37bab8a3",
   "metadata": {},
   "outputs": [
    {
     "data": {
      "text/plain": [
       "array([1, 2, 3])"
      ]
     },
     "execution_count": 104,
     "metadata": {},
     "output_type": "execute_result"
    }
   ],
   "source": [
    "#Calculcate the minimum value in each column. \n",
    "B.min(axis=0)"
   ]
  },
  {
   "cell_type": "code",
   "execution_count": 105,
   "id": "50cc1923",
   "metadata": {},
   "outputs": [
    {
     "data": {
      "text/plain": [
       "0"
      ]
     },
     "execution_count": 105,
     "metadata": {},
     "output_type": "execute_result"
    }
   ],
   "source": [
    "#Find the index value for the minimum value in the whole matrix (hint: use np.argmin).\n",
    "B.argmin()"
   ]
  },
  {
   "cell_type": "code",
   "execution_count": 106,
   "id": "2bdd33d5",
   "metadata": {},
   "outputs": [
    {
     "data": {
      "text/plain": [
       "array([0, 0, 0], dtype=int64)"
      ]
     },
     "execution_count": 106,
     "metadata": {},
     "output_type": "execute_result"
    }
   ],
   "source": [
    "#Find the index value for the minimum value in each row (hint: use np.argmin).\n",
    "B.argmin(axis=1)"
   ]
  },
  {
   "cell_type": "code",
   "execution_count": 107,
   "id": "cc8452a0",
   "metadata": {},
   "outputs": [
    {
     "data": {
      "text/plain": [
       "45"
      ]
     },
     "execution_count": 107,
     "metadata": {},
     "output_type": "execute_result"
    }
   ],
   "source": [
    "#Calculate the sum for all elements.\n",
    "B.sum()\n"
   ]
  },
  {
   "cell_type": "code",
   "execution_count": 108,
   "id": "3e0cd428",
   "metadata": {},
   "outputs": [
    {
     "data": {
      "text/plain": [
       "array([4., 5., 6.])"
      ]
     },
     "execution_count": 108,
     "metadata": {},
     "output_type": "execute_result"
    }
   ],
   "source": [
    "#Calculate the mean for each column.\n",
    "B.mean(axis=0)"
   ]
  },
  {
   "cell_type": "code",
   "execution_count": 109,
   "id": "62719d46",
   "metadata": {},
   "outputs": [
    {
     "data": {
      "text/plain": [
       "array([4., 5., 6.])"
      ]
     },
     "execution_count": 109,
     "metadata": {},
     "output_type": "execute_result"
    }
   ],
   "source": [
    "np.median(B, axis=0)"
   ]
  },
  {
   "cell_type": "markdown",
   "id": "541eb7ba",
   "metadata": {},
   "source": [
    "### What does it mean when you provide fewer indices than axes when slicing? See example below."
   ]
  },
  {
   "cell_type": "code",
   "execution_count": 110,
   "id": "9c8abf56",
   "metadata": {},
   "outputs": [
    {
     "name": "stdout",
     "output_type": "stream",
     "text": [
      "[[ 1  2  3  4  5]\n",
      " [ 6  7  8  9 10]\n",
      " [11 12 13 14 15]]\n"
     ]
    }
   ],
   "source": [
    "print(A)"
   ]
  },
  {
   "cell_type": "code",
   "execution_count": 111,
   "id": "69415f7b",
   "metadata": {},
   "outputs": [
    {
     "data": {
      "text/plain": [
       "array([ 6,  7,  8,  9, 10])"
      ]
     },
     "execution_count": 111,
     "metadata": {},
     "output_type": "execute_result"
    }
   ],
   "source": [
    "A[1]"
   ]
  },
  {
   "cell_type": "markdown",
   "id": "6c53541b",
   "metadata": {},
   "source": [
    "**Answer:**"
   ]
  },
  {
   "cell_type": "code",
   "execution_count": 112,
   "id": "de01e120",
   "metadata": {},
   "outputs": [],
   "source": [
    "#The missing indices are considered complete slices"
   ]
  },
  {
   "cell_type": "markdown",
   "id": "6652d0c9",
   "metadata": {},
   "source": [
    "### Iterating over multidimensional arrays is done with respect to the first axis, so in the example below we iterate trough the rows. If you would like to iterate through the array *elementwise*, how would you do that?"
   ]
  },
  {
   "cell_type": "code",
   "execution_count": 113,
   "id": "9459864f",
   "metadata": {},
   "outputs": [
    {
     "data": {
      "text/plain": [
       "array([[ 1,  2,  3,  4,  5],\n",
       "       [ 6,  7,  8,  9, 10],\n",
       "       [11, 12, 13, 14, 15]])"
      ]
     },
     "execution_count": 113,
     "metadata": {},
     "output_type": "execute_result"
    }
   ],
   "source": [
    "A"
   ]
  },
  {
   "cell_type": "code",
   "execution_count": 114,
   "id": "a671bb5a",
   "metadata": {},
   "outputs": [
    {
     "name": "stdout",
     "output_type": "stream",
     "text": [
      "[1 2 3 4 5]\n",
      "[ 6  7  8  9 10]\n",
      "[11 12 13 14 15]\n"
     ]
    }
   ],
   "source": [
    "for i in A:\n",
    "    print(i)"
   ]
  },
  {
   "cell_type": "code",
   "execution_count": 115,
   "id": "f4e443a0",
   "metadata": {},
   "outputs": [
    {
     "name": "stdout",
     "output_type": "stream",
     "text": [
      "1\n",
      "2\n",
      "3\n",
      "4\n",
      "5\n",
      "6\n",
      "7\n",
      "8\n",
      "9\n",
      "10\n",
      "11\n",
      "12\n",
      "13\n",
      "14\n",
      "15\n"
     ]
    }
   ],
   "source": [
    "#you can use the flate attribute, see below for exampel\n",
    "\n",
    "for element in A.flat:\n",
    "    print(element)"
   ]
  },
  {
   "cell_type": "markdown",
   "id": "608a2583",
   "metadata": {},
   "source": [
    "### Explain what the code below does. More specifically, b has three axes - what does this mean? "
   ]
  },
  {
   "cell_type": "code",
   "execution_count": 116,
   "id": "f8f9b26f",
   "metadata": {},
   "outputs": [
    {
     "name": "stdout",
     "output_type": "stream",
     "text": [
      "[ 0  1  2  3  4  5  6  7  8  9 10 11 12 13 14 15 16 17 18 19 20 21 22 23\n",
      " 24 25 26 27 28 29]\n",
      "\n",
      "[[[ 0  1  2  3  4]\n",
      "  [ 5  6  7  8  9]\n",
      "  [10 11 12 13 14]]\n",
      "\n",
      " [[15 16 17 18 19]\n",
      "  [20 21 22 23 24]\n",
      "  [25 26 27 28 29]]]\n"
     ]
    }
   ],
   "source": [
    "a = np.arange(30)\n",
    "b = a.reshape((2, 3, -1))\n",
    "print(a)\n",
    "print()\n",
    "\n",
    "print(b)"
   ]
  },
  {
   "cell_type": "code",
   "execution_count": 117,
   "id": "863a45df",
   "metadata": {},
   "outputs": [],
   "source": [
    "# a has been reshaped by the reshape function from 1D - > 3D"
   ]
  },
  {
   "cell_type": "markdown",
   "id": "ab5933d5",
   "metadata": {},
   "source": [
    "### Broadcasting\n",
    "**Read the following link about broadcasting: https://numpy.org/doc/stable/user/basics.broadcasting.html#basics-broadcasting**"
   ]
  },
  {
   "cell_type": "markdown",
   "id": "039805ba",
   "metadata": {},
   "source": [
    "# Remark on Broadcasting when doing Linear Algebra calculations in Python. "
   ]
  },
  {
   "cell_type": "markdown",
   "id": "c4bcc147",
   "metadata": {},
   "source": [
    "### From the mathematical rules of matrix addition, the operation below (m1 + m2) does not make sense. The reason is that matrix addition requires two matrices of the same size. In Python however, it works due to broadcasting rules in NumPy. So you must be careful when doing Linear Algebra calculations in Python since they do not follow the \"mathematical rules\". This can however easily be handled by doing some simple programming, for example validating that two matrices have the same shape is easy if you for instance want to add two matrices. "
   ]
  },
  {
   "cell_type": "code",
   "execution_count": 118,
   "id": "1fd46778",
   "metadata": {},
   "outputs": [
    {
     "name": "stdout",
     "output_type": "stream",
     "text": [
      "[[2 3]\n",
      " [4 5]]\n"
     ]
    }
   ],
   "source": [
    "m1 = np.array([[1, 2], [3, 4]])\n",
    "m2 = np.array([1, 1])\n",
    "print(m1 + m2)"
   ]
  },
  {
   "cell_type": "markdown",
   "id": "047d6576",
   "metadata": {},
   "source": [
    "### The example below would also not be allowed if following the \"mathematical rules\" in Linear Algebra. But it works due to broadcasting in NumPy. "
   ]
  },
  {
   "cell_type": "code",
   "execution_count": 119,
   "id": "5e6ef2e4",
   "metadata": {},
   "outputs": [
    {
     "name": "stdout",
     "output_type": "stream",
     "text": [
      "[2 3 4]\n"
     ]
    }
   ],
   "source": [
    "v1 = np.array([1, 2, 3])\n",
    "print(v1 + 1)"
   ]
  },
  {
   "cell_type": "code",
   "execution_count": 120,
   "id": "e2cbae26",
   "metadata": {},
   "outputs": [
    {
     "name": "stdout",
     "output_type": "stream",
     "text": [
      "[[1 2]\n",
      " [3 4]]\n",
      "[2 2]\n"
     ]
    }
   ],
   "source": [
    "A = np.arange(1, 5).reshape(2,2)\n",
    "print(A)\n",
    "\n",
    "b = np.array([2, 2])\n",
    "print(b)"
   ]
  },
  {
   "cell_type": "markdown",
   "id": "722fd5cd",
   "metadata": {},
   "source": [
    "# Vector- and matrix algebra Exercises"
   ]
  },
  {
   "cell_type": "markdown",
   "id": "b63a3081-d976-4d9f-bfd0-a63917e79f7d",
   "metadata": {},
   "source": [
    "**Now you are going to create a function that can be reused every time you add or multiply matrices. The function is created so that we do the addition and multiplication according to the rules of vector- and matrix algebra.**\n",
    "\n",
    "**Create a function \"add_mult_matrices\" that takes two matrices as input arguments (validate that the input are of the type numpy.ndarray by using the isinstance function), a third argument that is either 'add' or 'multiply' that specifies if you want to add or multiply the matrices (validate that the third argument is either 'add' or 'multiply'). When doing matrix addition, validate that the matrices have the same size. When doing matrix multiplication, validate that the sizes conform (i.e. number of columns in the first matrix is equal to the number of rows in the second matrix).**"
   ]
  },
  {
   "cell_type": "code",
   "execution_count": 121,
   "id": "3506f977-ac0a-473f-85bc-eec9f35dc498",
   "metadata": {},
   "outputs": [
    {
     "name": "stdout",
     "output_type": "stream",
     "text": [
      "Addition result:  The matricies must be same shape to be added\n",
      "Multiplication result:  The number of columns in the first matrix must be equal to the number of rows in the second matrix.\n"
     ]
    }
   ],
   "source": [
    "import numpy as np\n",
    "\n",
    "def add_mult_matrices(mat1, mat2, operation):\n",
    "    if not isinstance(mat1, np.ndarray) or not isinstance(mat2, np.ndarray):\n",
    "        return \"The matricies must be numpy.ndarray.\"\n",
    "              \n",
    "    if operation == 'add':\n",
    "        if mat1.shape == mat2.shape:\n",
    "            return mat1 + mat2\n",
    "        else:\n",
    "            return \"The matricies must be same shape to be added\"\n",
    "    \n",
    "    elif operation == 'multiply':\n",
    "        if mat1.shape[1] == mat2.shape[0]:\n",
    "            return mat1 @ mat2    \n",
    "        else:\n",
    "            return \"The number of columns in the first matrix must be equal to the number of rows in the second matrix.\"\n",
    "        \n",
    "\n",
    "#example no match of matrices  \n",
    "mat1 = np.array([[1, 2], [3, 4]])\n",
    "mat2 = np.array([[5, 6], [7, 8], [3, 4]])\n",
    "\n",
    "result_add = add_mult_matrices(mat1, mat2, \"add\")\n",
    "print(\"Addition result: \", result_add)\n",
    "result_multiply = add_mult_matrices(mat1, mat2, \"multiply\")\n",
    "print(\"Multiplication result: \", result_multiply)"
   ]
  },
  {
   "cell_type": "code",
   "execution_count": 122,
   "id": "775140c4",
   "metadata": {},
   "outputs": [
    {
     "name": "stdout",
     "output_type": "stream",
     "text": [
      "Addition result:  \n",
      " [[ 6  8]\n",
      " [10 12]]\n",
      "Multiplication result:  \n",
      " [[19 22]\n",
      " [43 50]]\n"
     ]
    }
   ],
   "source": [
    "#example match of matrices \n",
    "mat1 = np.array([[1, 2], [3, 4]])\n",
    "mat2 = np.array([[5, 6], [7, 8]])\n",
    "\n",
    "result_add = add_mult_matrices(mat1, mat2, \"add\")\n",
    "print(\"Addition result: \", \"\\n\",result_add)\n",
    "result_multiply = add_mult_matrices(mat1, mat2, \"multiply\")\n",
    "print(\"Multiplication result: \",\"\\n\", result_multiply)"
   ]
  },
  {
   "cell_type": "markdown",
   "id": "8dad82d0-2359-4dff-8f5b-a57d3e34103c",
   "metadata": {},
   "source": [
    "### Solve all the exercises in chapter 10.1 in the book \"Matematik för yrkeshögskolan\". "
   ]
  },
  {
   "cell_type": "code",
   "execution_count": 123,
   "id": "89df88af-3668-4d98-a0a4-e6d92eea0f89",
   "metadata": {},
   "outputs": [
    {
     "name": "stdout",
     "output_type": "stream",
     "text": [
      "a: \n",
      " Shape: (2,)\n",
      "b: \n",
      " [20 15]\n",
      "c: \n",
      " [12  9]\n",
      "d: \n",
      " [32 24]\n",
      "e: \n",
      " [32 24]\n",
      "f: \n",
      " [12  9]\n",
      "g: \n",
      " [[4]\n",
      " [3]]\n",
      "Shape: (2, 1)\n",
      "i: 5.0\n"
     ]
    }
   ],
   "source": [
    "#Since there are so many assignments, I wrote additional code to better describe the answers and avoid mixing them up\n",
    "#10.1.1\n",
    "\n",
    "task_one = np.array([4, 3])\n",
    "\n",
    "#a\n",
    "print(\"a:\", \"\\n\",\"Shape:\",task_one.shape)\n",
    "#b\n",
    "print(\"b:\", \"\\n\",task_one * 5)\n",
    "#c\n",
    "print(\"c:\", \"\\n\",task_one * 3)\n",
    "#d\n",
    "print(\"d:\", \"\\n\",(task_one * 5) + (task_one * 3))\n",
    "#e\n",
    "print(\"e:\", \"\\n\",task_one * 8)\n",
    "#f\n",
    "print(\"f:\", \"\\n\", (task_one * 4) - task_one)\n",
    "#g\n",
    "task_one_reshape = task_one.reshape(2,1)\n",
    "print(\"g:\", \"\\n\", task_one_reshape)\n",
    "print(\"Shape:\",task_one_reshape.shape)\n",
    "#h\n",
    "#Svar nej, vektorerna har olika dimensioner\n",
    "#i\n",
    "task_one_norm = np.linalg.norm(task_one)\n",
    "print(\"i:\", task_one_norm)"
   ]
  },
  {
   "cell_type": "code",
   "execution_count": 124,
   "id": "d01cb865",
   "metadata": {},
   "outputs": [
    {
     "name": "stdout",
     "output_type": "stream",
     "text": [
      "a: \n",
      " Shape: (4, 1)\n",
      "b: \n",
      " [[ 6]\n",
      " [14]\n",
      " [ 0]\n",
      " [22]]\n",
      "c: \n",
      " [[21]\n",
      " [49]\n",
      " [ 0]\n",
      " [77]]\n",
      "d: \n",
      " [[ 6]\n",
      " [14]\n",
      " [ 0]\n",
      " [22]]\n",
      "e: \n",
      " [[ 3  7  0 11]]\n",
      "f: \n",
      " 13.379088160259652\n"
     ]
    }
   ],
   "source": [
    "#10.1.2\n",
    "\n",
    "task_two = np.array([[3], [7], [0], [11]])\n",
    "\n",
    "#a\n",
    "print(\"a:\", \"\\n\",\"Shape:\", task_two.shape)\n",
    "#b\n",
    "print(\"b:\", \"\\n\",task_two * 2)\n",
    "#c\n",
    "print(\"c:\", \"\\n\",(task_two * 5) + (task_two * 2))\n",
    "#d\n",
    "print(\"d:\", \"\\n\",(task_two * 4) - (task_two * 2))\n",
    "#e\n",
    "task_two_reshape = task_two.reshape(1, 4)\n",
    "print(\"e:\", \"\\n\",task_two_reshape)\n",
    "#f\n",
    "task_two_norm = np.linalg.norm(task_two_reshape)\n",
    "print(\"f:\", \"\\n\",task_two_norm)"
   ]
  },
  {
   "cell_type": "code",
   "execution_count": 125,
   "id": "37a73af1",
   "metadata": {},
   "outputs": [
    {
     "name": "stdout",
     "output_type": "stream",
     "text": [
      "Shape: (4,)\n",
      "Shape: (4,)\n",
      "a: \n",
      " 7.14142842854285\n",
      "b: \n",
      " 4.47213595499958\n"
     ]
    }
   ],
   "source": [
    "#10.1.3\n",
    "\n",
    "vector_one = np.array([4, 3, 1, 5])\n",
    "vector_two = np.array([2, 3, 1, 1])\n",
    "\n",
    "print(\"Shape:\", vector_one.shape)\n",
    "print(\"Shape:\", vector_two.shape)\n",
    "\n",
    "#a\n",
    "norm_one = np.linalg.norm(vector_one)\n",
    "print(\"a:\", \"\\n\",norm_one)\n",
    "\n",
    "#b\n",
    "new_vector = vector_one - vector_two\n",
    "norm_new_vector = np.linalg.norm(new_vector)\n",
    "print(\"b:\", \"\\n\",norm_new_vector)"
   ]
  },
  {
   "cell_type": "markdown",
   "id": "75c98984-1f88-4df1-b850-d2466de444a5",
   "metadata": {},
   "source": [
    "### Solve all the exercises, except 10.2.4, in chapter 10.2 in the book \"Matematik för yrkeshögskolan\". "
   ]
  },
  {
   "cell_type": "code",
   "execution_count": 126,
   "id": "65371610-16e1-48b2-b7fb-65e49002608a",
   "metadata": {},
   "outputs": [],
   "source": [
    "#I updated the add_mult_matrices function to work with subtraction too and chose to write a new one to keep the code togheter.\n",
    "\n",
    "import numpy as np\n",
    "\n",
    "def add_sub_mult(a, b, operation):\n",
    "    if not isinstance(a, np.ndarray) or not isinstance(b, np.ndarray):\n",
    "        return \"The matricies must be numpy.array.\"\n",
    "        \n",
    "    \n",
    "    if operation == 'add':\n",
    "        if a.shape == b.shape:\n",
    "            return a + b\n",
    "        else:\n",
    "            return \"The matricies must be same shape, not defined\"\n",
    "            \n",
    "    elif operation == 'sub':\n",
    "        if a.shape == b.shape:\n",
    "            return a - b\n",
    "        else:\n",
    "            return \"The matricies must be same shape, not defined\"\n",
    "    \n",
    "    elif operation == 'multiply':\n",
    "        if a.shape[1] == b.shape[0]:\n",
    "            return a @ b\n",
    "        else:\n",
    "            return \"The number of columns in the first matrix must be equal to the number of rows in the second matrix, not defined\"\n",
    "\n",
    "a = np.array([[1], [2]])\n",
    "b = np.array([[1], [2]])\n",
    "\n",
    "result_add = add_sub_mult(a, b, \"add\")\n",
    "result_sub = add_sub_mult(a, b, \"sub\")\n",
    "result_multiply = add_sub_mult(a, b, \"multiply\")\n"
   ]
  },
  {
   "cell_type": "code",
   "execution_count": 135,
   "id": "62c0843c",
   "metadata": {},
   "outputs": [],
   "source": [
    "A = np.array([[2, 1, -1],[1, -1, 1]])\n",
    "B = np.array([[4, -2, 1], [2, -4, -2]])\n",
    "C = np.array([[1, 2], [2, 1]])\n",
    "D = np.array([[3, 4], [4, 3]])\n",
    "E = np.array([[1], [2]])\n",
    "I = np.array([[1, 0], [0, 1]])\n"
   ]
  },
  {
   "cell_type": "code",
   "execution_count": 128,
   "id": "a4bf9fe5",
   "metadata": {},
   "outputs": [
    {
     "name": "stdout",
     "output_type": "stream",
     "text": [
      "Answer a:  \n",
      " [[ 4  2 -2]\n",
      " [ 2 -2  2]]\n",
      "\n",
      "Answer b:  \n",
      " [[ 0 -4  3]\n",
      " [ 0 -2 -4]]\n",
      "\n",
      "Answer c:  \n",
      " The matricies must be same shape, not defined\n",
      "\n",
      "Answer d:  \n",
      " [[3 2]\n",
      " [2 3]]\n",
      "\n",
      "Answer e:  \n",
      " [[ 9 12]\n",
      " [12  9]]\n",
      "\n",
      "Answer f:  \n",
      " [[-4 -4]\n",
      " [-4 -4]]\n",
      "\n"
     ]
    }
   ],
   "source": [
    "#10.2.1 a - f\n",
    "\n",
    "#a\n",
    "print(\"Answer a: \", \"\\n\", A * 2) \n",
    "print()\n",
    "#b\n",
    "a = B\n",
    "b = 2 * A\n",
    "result_b = add_sub_mult(a, b, \"sub\")\n",
    "print(\"Answer b: \" , \"\\n\", result_b)\n",
    "print()\n",
    "#c\n",
    "a = 3 * C\n",
    "b = 2 * E\n",
    "result_c = add_sub_mult(a, b, \"sub\")\n",
    "print(\"Answer c: \" , \"\\n\", result_c)\n",
    "print()\n",
    "#d\n",
    "a = 2 * D\n",
    "b = 3 * C\n",
    "result_d = add_sub_mult(a, b, \"sub\")\n",
    "print(\"Answer d: \", \"\\n\", result_d)\n",
    "print()\n",
    "#e\n",
    "D_trans = D.T\n",
    "a = D_trans\n",
    "b = 2 * D\n",
    "result_e = add_sub_mult(a, b, \"add\")\n",
    "print(\"Answer e: \", \"\\n\", result_e)\n",
    "print()\n",
    "#f\n",
    "C_trans = C.T\n",
    "a = 2 * C_trans\n",
    "b = 2 * D_trans\n",
    "result_f = add_sub_mult(a, b, \"sub\")\n",
    "print(\"Answer f: \", \"\\n\", result_f)\n",
    "print()"
   ]
  },
  {
   "cell_type": "code",
   "execution_count": 129,
   "id": "d9abb8fc",
   "metadata": {},
   "outputs": [
    {
     "name": "stdout",
     "output_type": "stream",
     "text": [
      "Answer g:  \n",
      " The matricies must be same shape, not defined\n",
      "\n",
      "Answer h:  \n",
      " The number of columns in the first matrix must be equal to the number of rows in the second matrix, not defined\n",
      "\n",
      "Answer i:  \n",
      " [[11 10]\n",
      " [10 11]]\n",
      "\n",
      "Answer j:  \n",
      " [[  8 -10  -3]\n",
      " [ 10  -8   0]]\n",
      "\n",
      "Answer k:  \n",
      " [[1 2]\n",
      " [2 1]]\n",
      "\n",
      "Answer l:  \n",
      " [[5 2]\n",
      " [7 4]]\n"
     ]
    }
   ],
   "source": [
    "#10.2.1 g - l\n",
    "\n",
    "#g\n",
    "A_trans = A.T\n",
    "a = A_trans\n",
    "b = B\n",
    "result_g= add_sub_mult(a, b, \"sub\")\n",
    "print(\"Answer g: \", \"\\n\", result_g)\n",
    "print()\n",
    "#h\n",
    "a = A\n",
    "b = C\n",
    "result_h= add_sub_mult(a, b, \"multiply\")\n",
    "print(\"Answer h: \", \"\\n\", result_h)\n",
    "print()\n",
    "#i\n",
    "a = C\n",
    "b = D\n",
    "result_i= add_sub_mult(a, b, \"multiply\")\n",
    "print(\"Answer i: \", \"\\n\", result_i)\n",
    "print()\n",
    "#j\n",
    "a = C\n",
    "b = B\n",
    "result_j= add_sub_mult(a, b, \"multiply\")\n",
    "print(\"Answer j: \", \"\\n\", result_j)\n",
    "print()\n",
    "#k\n",
    "a = C\n",
    "b = I\n",
    "result_k= add_sub_mult(a, b, \"multiply\")\n",
    "print(\"Answer k: \", \"\\n\", result_k)\n",
    "print()\n",
    "#l\n",
    "B_trans = B.T\n",
    "a = A\n",
    "b = B_trans\n",
    "result_l= add_sub_mult(a, b, \"multiply\")\n",
    "print(\"Answer l: \", \"\\n\", result_l)"
   ]
  },
  {
   "cell_type": "code",
   "execution_count": 130,
   "id": "e91bc499",
   "metadata": {},
   "outputs": [
    {
     "name": "stdout",
     "output_type": "stream",
     "text": [
      "[[2 3 4]\n",
      " [5 4 1]]\n",
      "[[2 5]\n",
      " [3 4]\n",
      " [4 1]]\n",
      "[[29 26]\n",
      " [26 42]]\n"
     ]
    }
   ],
   "source": [
    "#10.2.2\n",
    "\n",
    "matrix = np.array([[2, 3, 4],[5, 4, 1]])\n",
    "matrix_trans = matrix.T\n",
    "print(matrix)\n",
    "print(matrix_trans)\n",
    "\n",
    "a = matrix\n",
    "b = matrix_trans\n",
    "\n",
    "result_matrix = add_sub_mult(a, b, \"multiply\")\n",
    "print(result_matrix)"
   ]
  },
  {
   "cell_type": "code",
   "execution_count": 131,
   "id": "a633e2c6",
   "metadata": {},
   "outputs": [
    {
     "name": "stdout",
     "output_type": "stream",
     "text": [
      "AB \n",
      " [[ 4  7]\n",
      " [ 8 14]]\n",
      "\n",
      "AC \n",
      " [[ 4  7]\n",
      " [ 8 14]]\n",
      "\n",
      "B \n",
      " [[2 1]\n",
      " [1 3]]\n",
      "C \n",
      " [[4 3]\n",
      " [0 2]]\n"
     ]
    }
   ],
   "source": [
    "#10.2.3\n",
    "mat_A = np.array([[1, 2],[2, 4]]) \n",
    "mat_B = np.array([[2, 1],[1,3]])\n",
    "mat_C = np.array([[4, 3],[0, 2]])\n",
    "\n",
    "a = mat_A\n",
    "b = mat_B\n",
    "result_AB = add_sub_mult(a, b, \"multiply\")\n",
    "print(\"AB\", \"\\n\", result_AB)\n",
    "print()\n",
    "\n",
    "a = mat_A\n",
    "b = mat_C\n",
    "result_AC = add_sub_mult(a, b, \"multiply\")\n",
    "print(\"AC\", \"\\n\", result_AC)\n",
    "print()\n",
    "\n",
    "print(\"B\", \"\\n\", mat_B)\n",
    "print(\"C\", \"\\n\", mat_C)"
   ]
  },
  {
   "cell_type": "markdown",
   "id": "6a4a524f",
   "metadata": {},
   "source": [
    "### Copies and Views\n",
    "Read the following link: https://numpy.org/doc/stable/user/basics.copies.html"
   ]
  },
  {
   "cell_type": "markdown",
   "id": "6cbbeaf7",
   "metadata": {},
   "source": [
    "**Basic indexing creates a view, How can you check if v1 and v2 is a view or copy? If you change the last element in v2 to 123, will the last element in v1 be changed? Why?**"
   ]
  },
  {
   "cell_type": "code",
   "execution_count": 132,
   "id": "5b9ef4df",
   "metadata": {},
   "outputs": [
    {
     "name": "stdout",
     "output_type": "stream",
     "text": [
      "[0 1 2 3]\n",
      "[2 3]\n"
     ]
    }
   ],
   "source": [
    "v1 = np.arange(4)\n",
    "v2 = v1[-2:]\n",
    "print(v1)\n",
    "print(v2)"
   ]
  },
  {
   "cell_type": "code",
   "execution_count": 133,
   "id": "d2440489",
   "metadata": {},
   "outputs": [
    {
     "name": "stdout",
     "output_type": "stream",
     "text": [
      "None\n",
      "[0 1 2 3]\n"
     ]
    }
   ],
   "source": [
    "# The base attribute of a view returns the original array while it returns None for a copy.\n",
    "print(v1.base)\n",
    "print(v2.base)"
   ]
  },
  {
   "cell_type": "code",
   "execution_count": 134,
   "id": "c8752807",
   "metadata": {},
   "outputs": [
    {
     "name": "stdout",
     "output_type": "stream",
     "text": [
      "[  0   1   2 123]\n",
      "[  2 123]\n"
     ]
    }
   ],
   "source": [
    "# The last element in v1 will be changed aswell since v2 is a view, meaning they share the same data buffer.\n",
    "v2[-1] = 123\n",
    "print(v1)\n",
    "print(v2)"
   ]
  },
  {
   "cell_type": "code",
   "execution_count": null,
   "id": "3dd68221",
   "metadata": {},
   "outputs": [],
   "source": []
  }
 ],
 "metadata": {
  "kernelspec": {
   "display_name": "base",
   "language": "python",
   "name": "python3"
  },
  "language_info": {
   "codemirror_mode": {
    "name": "ipython",
    "version": 3
   },
   "file_extension": ".py",
   "mimetype": "text/x-python",
   "name": "python",
   "nbconvert_exporter": "python",
   "pygments_lexer": "ipython3",
   "version": "3.12.4"
  }
 },
 "nbformat": 4,
 "nbformat_minor": 5
}
